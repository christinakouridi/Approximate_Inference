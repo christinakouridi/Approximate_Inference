{
 "cells": [
  {
   "cell_type": "markdown",
   "metadata": {},
   "source": [
    "## <center> Decrypting Messages with MCMC </center>"
   ]
  },
  {
   "cell_type": "markdown",
   "metadata": {},
   "source": [
    "In this notebook, we will decrypt a passage from the Great Gatsby that has been encrypted by remapping each symbol to a (usually) different one. For example, a text like 'my father...' might be encypted by 'lq!bhuwbt'. We assume that the mapping between symbols is one-to-one. The file symbols.txt gives the list of symbols, one per line. The file message.txt gives the encrypted message.\n",
    "\n",
    "Decoding the message by brute force is impossible, since there are 53 symbols and thus 53! possible permutations to try. Instead we will set up a Markov chain Monte Carlo sampler tofind modes in the space of permutations.\n",
    "\n",
    "We learn the transition statistics of letters and punctuation in English using a large text - War and Peace."
   ]
  },
  {
   "cell_type": "markdown",
   "metadata": {},
   "source": [
    "#### Import useful libraries"
   ]
  },
  {
   "cell_type": "code",
   "execution_count": null,
   "metadata": {},
   "outputs": [],
   "source": [
    "import matplotlib.pyplot as plt\n",
    "import numpy as np\n",
    "import re\n",
    "import seaborn as sns"
   ]
  },
  {
   "cell_type": "markdown",
   "metadata": {},
   "source": [
    "#### Load data"
   ]
  },
  {
   "cell_type": "markdown",
   "metadata": {},
   "source": [
    "Read decrypted message"
   ]
  },
  {
   "cell_type": "code",
   "execution_count": 4,
   "metadata": {},
   "outputs": [
    {
     "name": "stdout",
     "output_type": "stream",
     "text": [
      "number of states: 1445\n",
      "number of unique symbols 32\n",
      "sample text from war and peace: \n",
      "[:p1lpl]x:r?!pw:np1]!?pmx;:?!w.;?pl?w!gp1lp/ws-?!prwm?p1?pg]1?pwnm[2?ps-wsp[ m?p.??:psx!:[:rp]m?!p[:\n"
     ]
    }
   ],
   "source": [
    "message = []\n",
    "with open(\"message.txt\") as text:\n",
    "    for line in text:\n",
    "        for letter in line:\n",
    "            message.append(letter)\n",
    "message = np.array(message)\n",
    "\n",
    "n = len(message)\n",
    "\n",
    "# print message to ensure it matches symbols in text\n",
    "print(f\"number of states: {n}\")\n",
    "print(f\"number of unique symbols {len(np.unique(message))}\")\n",
    "print(f\"sample text from war and peace: \\n{''.join(message[:100])}\")"
   ]
  },
  {
   "cell_type": "markdown",
   "metadata": {},
   "source": [
    "Read symbols"
   ]
  },
  {
   "cell_type": "code",
   "execution_count": 5,
   "metadata": {},
   "outputs": [
    {
     "name": "stdout",
     "output_type": "stream",
     "text": [
      "number of unique symbols: 53 \n",
      "symbols: \n",
      "['=' ' ' '-' ',' ';' ':' '!' '?' '/' '.' \"'\" '\"' '(' ')' '[' ']' '*' '0'\n",
      " '1' '2' '3' '4' '5' '6' '7' '8' '9' 'a' 'b' 'c' 'd' 'e' 'f' 'g' 'h' 'i'\n",
      " 'j' 'k' 'l' 'm' 'n' 'o' 'p' 'q' 'r' 's' 't' 'u' 'v' 'w' 'x' 'y' 'z']\n"
     ]
    }
   ],
   "source": [
    "symbols = np.loadtxt(\"symbols.txt\", dtype=\"str\", delimiter=\"\\n\")\n",
    "s = len(symbols)\n",
    "print(f\"number of unique symbols: {s} \\nsymbols: \\n{symbols}\")"
   ]
  },
  {
   "cell_type": "markdown",
   "metadata": {},
   "source": [
    "#### Read war and peace (core text)"
   ]
  },
  {
   "cell_type": "code",
   "execution_count": 6,
   "metadata": {},
   "outputs": [
    {
     "name": "stdout",
     "output_type": "stream",
     "text": [
      "['\\n', '\\n', '\\n', 'chapter i\\n', '\\n', '\"well, prince, so genoa and lucca are now just family estates of the buonapartes. but i warn you, if you don\\'t tell me that this means war,\\n', 'if you still try to defend the infamies and horrors perpetrated by that\\n', 'antichrist—i really believe he is antichrist—i will have nothing\\n', 'more to do with you and you are no longer my friend, no longer my\\n', \"'faithful slave,' as you call yourself! but how do you do? i see i\\n\"]\n"
     ]
    }
   ],
   "source": [
    "# note: covert to lower case as symbols in lower case\n",
    "text_corpus_raw = []\n",
    "with open(\"war_and_peace.txt\") as text:\n",
    "    for line in text:\n",
    "        text_corpus_raw.append(line.lower()) \n",
    "print(text_corpus_raw[:10])"
   ]
  },
  {
   "cell_type": "markdown",
   "metadata": {},
   "source": [
    "#### Clean war and peace text"
   ]
  },
  {
   "cell_type": "code",
   "execution_count": 7,
   "metadata": {},
   "outputs": [
    {
     "name": "stdout",
     "output_type": "stream",
     "text": [
      "['\"well, prince, so genoa and lucca are now just family estates of the buonapartes. but i warn you, if you don\\'t tell me that this means war,\\n', 'if you still try to defend the infamies and horrors perpetrated by that\\n', 'antichrist—i really believe he is antichrist—i will have nothing\\n'] \n",
      "\n",
      "['\"well, prince, so genoa and lucca are now just family estates of the buonapartes. but i warn you, if you don\\'t tell me that this means war, ', 'if you still try to defend the infamies and horrors perpetrated by that ', 'antichrist—i really believe he is antichrist—i will have nothing ']\n"
     ]
    }
   ],
   "source": [
    "# 1. remove empty lines indicated by \"\\n\" and Chapter numbers e.g. 'CHAPTER I'\n",
    "\n",
    "text_corpus = []\n",
    "\n",
    "for text in text_corpus_raw:\n",
    "    if text != '\\n':\n",
    "        if 'chapter' not in text:\n",
    "            text_corpus.append(text)\n",
    "print(text_corpus[:3],\"\\n\")\n",
    "\n",
    "# change \\n in text to space\n",
    "text_corpus = [s.replace('\\n', ' ') for s in text_corpus] \n",
    "print(text_corpus[:3])"
   ]
  },
  {
   "cell_type": "code",
   "execution_count": 8,
   "metadata": {},
   "outputs": [
    {
     "data": {
      "text/plain": [
       "array([' ', '!', '\"', \"'\", '(', ')', '*', ',', '-', '.', '/', '0', '1',\n",
       "       '2', '3', '4', '5', '6', '7', '8', '9', ':', ';', '=', '?', 'a',\n",
       "       'b', 'c', 'd', 'e', 'f', 'g', 'h', 'i', 'j', 'k', 'l', 'm', 'n',\n",
       "       'o', 'p', 'q', 'r', 's', 't', 'u', 'v', 'w', 'x', 'y', 'z', 'à',\n",
       "       'á', 'â', 'ä', 'æ', 'ç', 'è', 'é', 'ê', 'ë', 'í', 'î', 'ï', 'ó',\n",
       "       'ô', 'ö', 'ú', 'ü', 'ý', 'œ', '—'], dtype='<U1')"
      ]
     },
     "execution_count": 8,
     "metadata": {},
     "output_type": "execute_result"
    }
   ],
   "source": [
    "# 2. split corpus in letters and store them in an array\n",
    "text_corpus_final = []\n",
    "for line in text_corpus:\n",
    "    words = re.split(r'(\\s+)', line)\n",
    "    for word in words:\n",
    "        for letter in word:\n",
    "            text_corpus_final.append(letter)\n",
    "\n",
    "text_corpus_final = np.array(text_corpus_final)\n",
    "\n",
    "np.unique(text_corpus_final)"
   ]
  },
  {
   "cell_type": "code",
   "execution_count": 9,
   "metadata": {},
   "outputs": [
    {
     "name": "stdout",
     "output_type": "stream",
     "text": [
      "letter replacement pairs:\n",
      "(à->a)\n",
      "(á->a)\n",
      "(â->a)\n",
      "(ä->a)\n",
      "(æ->ae)\n",
      "(ç->c)\n",
      "(è->e)\n",
      "(é->e)\n",
      "(ê->e)\n",
      "(ë->e)\n",
      "(í->i)\n",
      "(î->i)\n",
      "(ï->i)\n",
      "(ó->o)\n",
      "(ô->o)\n",
      "(ö->o)\n",
      "(ú->u)\n",
      "(ü->u)\n",
      "(ý->y)\n",
      "(œ->oe)\n",
      "(—->-)\n"
     ]
    }
   ],
   "source": [
    "# 3. replace french letters with english equivalents\n",
    "letters_to_replace = np.unique(text_corpus_final)[51:72]\n",
    "replacement_letters = np.array(['a','a','a','a','ae','c','e',\n",
    "                                'e','e','e','i','i','i','o',\n",
    "                                'o','o','u','u','y','oe','-'])\n",
    "print(\"letter replacement pairs:\")\n",
    "for i, letter in enumerate(letters_to_replace):\n",
    "    print(f'({letter}->{replacement_letters[i]})')\n"
   ]
  },
  {
   "cell_type": "code",
   "execution_count": 10,
   "metadata": {},
   "outputs": [
    {
     "name": "stdout",
     "output_type": "stream",
     "text": [
      "example replacements:\n",
      "à->a\n",
      "ç->c\n",
      "í->i\n",
      "ö->o\n",
      "—->-\n"
     ]
    }
   ],
   "source": [
    "example_iter = 0\n",
    "print(\"example replacements:\")\n",
    "\n",
    "for index, letter  in enumerate(letters_to_replace):\n",
    "    # for each letter that needs to be replaced, find indices of \n",
    "    # letters in the corpus and swap them with the respective \n",
    "    # letter in the replacement list\n",
    "    \n",
    "    # get indices of letters to be replaced\n",
    "    indices = np.argwhere(text_corpus_final==letter)\n",
    "    \n",
    "    # print example replacement for validation\n",
    "    if example_iter % 5 == 0:\n",
    "        print(f\"{letter}->{replacement_letters[index]}\")\n",
    "    \n",
    "    text_corpus_final[indices] = replacement_letters[index]\n",
    "    \n",
    "    example_iter +=1"
   ]
  },
  {
   "cell_type": "code",
   "execution_count": 11,
   "metadata": {},
   "outputs": [
    {
     "name": "stdout",
     "output_type": "stream",
     "text": [
      "number of states: 3183812\n",
      "number of unique symbols 51\n",
      "sample text from war and peace: \n",
      "['\"' 'w' 'e' 'l' 'l' ',' ' ' 'p' 'r' 'i' 'n' 'c' 'e' ',' ' ' 's' 'o' ' '\n",
      " 'g' 'e' 'n' 'o' 'a' ' ' 'a' 'n' 'd' ' ' 'l' 'u' 'c' 'c' 'a' ' ' 'a' 'r'\n",
      " 'e' ' ' 'n' 'o' 'w' ' ' 'j' 'u' 's' 't' ' ' 'f' 'a' 'm' 'i' 'l' 'y' ' '\n",
      " 'e' 's' 't' 'a' 't' 'e' 's' ' ' 'o' 'f' ' ' 't' 'h' 'e' ' ' 'b' 'u' 'o'\n",
      " 'n' 'a' 'p' 'a' 'r' 't' 'e' 's' '.' ' ' 'b' 'u' 't' ' ' 'i' ' ' 'w' 'a'\n",
      " 'r' 'n' ' ' 'y' 'o' 'u' ',' ' ' 'i' 'f']\n"
     ]
    }
   ],
   "source": [
    "n_corpus = len(text_corpus_final)\n",
    "\n",
    "symbols_corpus = np.unique(text_corpus_final)\n",
    "\n",
    "print(f\"number of states: {n_corpus}\")\n",
    "print(f\"number of unique symbols {len(symbols_corpus)}\")\n",
    "print(f\"sample text from war and peace: \\n{text_corpus_final[:100]}\")"
   ]
  },
  {
   "cell_type": "markdown",
   "metadata": {},
   "source": [
    "#### Estimate the transition probability matrix"
   ]
  },
  {
   "cell_type": "markdown",
   "metadata": {},
   "source": [
    "Initialise transition matrix to 1 (before normalisation), which corresponds to setting the prior to a uniform distribution i.e. each transition is equally likely. This avoids probabilities of 0 in the transition matrix"
   ]
  },
  {
   "cell_type": "code",
   "execution_count": 12,
   "metadata": {},
   "outputs": [
    {
     "name": "stdout",
     "output_type": "stream",
     "text": [
      "first 5 transitions:\n",
      "\"->w\n",
      "w->e\n",
      "e->l\n",
      "l->l\n",
      "l->,\n"
     ]
    }
   ],
   "source": [
    "Psi = np.ones((s, s))\n",
    "\n",
    "print(\"first 5 transitions:\")\n",
    "\n",
    "for i_n, s_i in enumerate(text_corpus_final[:-1]):\n",
    "    s_j = text_corpus_final[i_n+1]\n",
    "    \n",
    "    i_t = np.argwhere(symbols==s_i)[0][0]\n",
    "    j_t = np.argwhere(symbols==s_j)[0][0]\n",
    "    \n",
    "    if i_n in np.arange(5):\n",
    "        print(f\"{s_i}->{s_j}\")\n",
    "    \n",
    "    Psi[i_t, j_t] +=1"
   ]
  },
  {
   "cell_type": "code",
   "execution_count": 13,
   "metadata": {},
   "outputs": [
    {
     "data": {
      "text/plain": [
       "array([1., 1., 1., 1., 1., 1., 1., 1., 1., 1., 1., 1., 1., 1., 1., 1., 1.,\n",
       "       1., 1., 1., 1., 1., 1., 1., 1., 1., 1., 1., 1., 1., 1., 1., 1., 1.,\n",
       "       1., 1., 1., 1., 1., 1., 1., 1., 1., 1., 1., 1., 1., 1., 1., 1., 1.,\n",
       "       1., 1.])"
      ]
     },
     "execution_count": 13,
     "metadata": {},
     "output_type": "execute_result"
    }
   ],
   "source": [
    "# normalise each row (transitions out of state i)\n",
    "Psi_norm = Psi / np.sum(Psi, axis=1, keepdims=True)\n",
    "\n",
    "# check if normalised correctly\n",
    "np.sum(Psi_norm, axis=1)"
   ]
  },
  {
   "cell_type": "markdown",
   "metadata": {},
   "source": [
    "#### Plot transition probability matrix"
   ]
  },
  {
   "cell_type": "code",
   "execution_count": 14,
   "metadata": {},
   "outputs": [
    {
     "data": {
      "image/png": "[encoded data removed]",
      "text/plain": [
       "<matplotlib.figure.Figure at 0x1a12aaa8d0>"
      ]
     },
     "metadata": {},
     "output_type": "display_data"
    }
   ],
   "source": [
    "fig1 = plt.figure(figsize=(10,10))\n",
    "\n",
    "ax = sns.heatmap(Psi_norm, cmap=\"Greys\", cbar=True, \n",
    "           xticklabels=symbols, yticklabels=symbols)\n",
    "\n",
    "# format plot\n",
    "ax.set_title(\"Figure 1 - Transition probability matrix $\\Psi$ based on War and Peace\")\n",
    "ax.set_ylabel(\"Conditioning on first letter\")\n",
    "ax.set_xlabel(\"Probability of second letter\")\n",
    "\n",
    "# save plot\n",
    "fig1.savefig('fig1.png')"
   ]
  },
  {
   "cell_type": "markdown",
   "metadata": {},
   "source": [
    "#### Estimate the stationary distribution"
   ]
  },
  {
   "cell_type": "markdown",
   "metadata": {},
   "source": [
    "The stationary distribution is the transpose of the left eigenvector of Psi corresponding to eigenvalue of 1. Left eigenvectors are the eigenvectors of Psi transpose"
   ]
  },
  {
   "cell_type": "code",
   "execution_count": 15,
   "metadata": {},
   "outputs": [
    {
     "data": {
      "text/plain": [
       "array([ 1.00000000e+00+0.j        ,  4.80142706e-01+0.j        ,\n",
       "        6.00957066e-02+0.30618027j,  6.00957066e-02-0.30618027j,\n",
       "       -3.69448263e-01+0.j        , -3.07694743e-01+0.j        ,\n",
       "       -2.16135361e-01+0.12172211j, -2.16135361e-01-0.12172211j,\n",
       "        1.92059282e-01+0.j        ,  1.36089092e-01+0.j        ,\n",
       "       -4.85065489e-02+0.10485725j, -4.85065489e-02-0.10485725j,\n",
       "        8.04875770e-03+0.10760095j,  8.04875770e-03-0.10760095j,\n",
       "       -7.11269612e-02+0.06561815j, -7.11269612e-02-0.06561815j,\n",
       "        1.03206413e-01+0.02470657j,  1.03206413e-01-0.02470657j,\n",
       "        1.02829959e-01+0.j        ,  9.26148054e-02+0.j        ,\n",
       "       -7.60404721e-02+0.j        ,  3.13578070e-02+0.06296869j,\n",
       "        3.13578070e-02-0.06296869j,  7.32825971e-02+0.j        ,\n",
       "       -2.03674595e-02+0.05672424j, -2.03674595e-02-0.05672424j,\n",
       "        4.63268717e-02+0.j        ,  4.31602118e-02+0.01497233j,\n",
       "        4.31602118e-02-0.01497233j,  3.12128501e-02+0.03005984j,\n",
       "        3.12128501e-02-0.03005984j,  3.31593581e-02+0.j        ,\n",
       "       -1.99791883e-02+0.02386381j, -1.99791883e-02-0.02386381j,\n",
       "       -3.39670237e-02+0.j        ,  4.34710712e-03+0.02308848j,\n",
       "        4.34710712e-03-0.02308848j, -2.33888049e-02+0.00436098j,\n",
       "       -2.33888049e-02-0.00436098j, -1.34292533e-02+0.j        ,\n",
       "       -1.07785633e-02+0.j        ,  9.09251262e-03+0.j        ,\n",
       "        7.80286971e-03+0.j        , -1.38172283e-03+0.0083304j ,\n",
       "       -1.38172283e-03-0.0083304j , -6.22291708e-03+0.j        ,\n",
       "        2.95161409e-04+0.00308576j,  2.95161409e-04-0.00308576j,\n",
       "       -2.74473879e-03+0.j        ,  6.62388974e-05+0.j        ,\n",
       "        2.64990289e-06+0.j        , -2.56491121e-17+0.j        ,\n",
       "        4.85731744e-18+0.j        ])"
      ]
     },
     "execution_count": 15,
     "metadata": {},
     "output_type": "execute_result"
    }
   ],
   "source": [
    "eigenvalues, eigenvectors = np.linalg.eig(Psi_norm.T)\n",
    "eigenvalues       "
   ]
  },
  {
   "cell_type": "code",
   "execution_count": 16,
   "metadata": {},
   "outputs": [
    {
     "data": {
      "text/plain": [
       "0"
      ]
     },
     "execution_count": 16,
     "metadata": {},
     "output_type": "execute_result"
    }
   ],
   "source": [
    "# find the index of eigenvalue = 1\n",
    "index = np.argmin(np.abs(eigenvalues - 1))\n",
    "index"
   ]
  },
  {
   "cell_type": "code",
   "execution_count": 17,
   "metadata": {},
   "outputs": [
    {
     "data": {
      "text/plain": [
       "array([1.72596605e-05, 1.76673507e-01, 1.23014250e-03, 1.24875231e-02,\n",
       "       3.75632945e-04, 3.21971153e-04, 1.24834447e-03, 1.00043300e-03,\n",
       "       1.72596598e-05, 9.63784234e-03, 2.37681291e-03, 5.64958776e-03,\n",
       "       2.20610036e-04, 2.20610460e-04, 1.66320358e-05, 1.66320358e-05,\n",
       "       1.01988979e-04, 5.99380969e-05, 1.10148078e-04, 5.52309399e-05,\n",
       "       3.07535871e-05, 2.10254072e-05, 2.85568797e-05, 3.01259583e-05,\n",
       "       2.69878363e-05, 6.77833902e-05, 2.44773378e-05, 6.40543799e-02,\n",
       "       1.08017234e-02, 1.89373038e-02, 3.69698839e-02, 9.81268382e-02,\n",
       "       1.71215895e-02, 1.59924886e-02, 5.21596486e-02, 5.40261845e-02,\n",
       "       7.96454881e-04, 6.38136871e-03, 3.01545154e-02, 1.92486047e-02,\n",
       "       5.74859700e-02, 6.01094465e-02, 1.39332582e-02, 7.44676133e-04,\n",
       "       4.59966932e-02, 5.08934170e-02, 7.03547874e-02, 2.03886839e-02,\n",
       "       8.36685694e-03, 1.85098811e-02, 1.18056099e-03, 1.44315790e-02,\n",
       "       7.65387553e-04])"
      ]
     },
     "execution_count": 17,
     "metadata": {},
     "output_type": "execute_result"
    }
   ],
   "source": [
    "phi = np.real(eigenvectors[:, index]).T\n",
    "\n",
    "# normalise eigenvector to get a probability distr.\n",
    "phi = phi/np.sum(phi)\n",
    "phi"
   ]
  },
  {
   "cell_type": "markdown",
   "metadata": {},
   "source": [
    "#### Plot stationary distribution"
   ]
  },
  {
   "cell_type": "code",
   "execution_count": 18,
   "metadata": {},
   "outputs": [],
   "source": [
    "# 1D to 2D as imshow requires a 2D+ input\n",
    "phi = np.reshape(phi,(1,len(phi))) "
   ]
  },
  {
   "cell_type": "code",
   "execution_count": 19,
   "metadata": {},
   "outputs": [
    {
     "data": {
      "image/png": "[encoded data removed]",
      "text/plain": [
       "<matplotlib.figure.Figure at 0x1a1e07eb38>"
      ]
     },
     "metadata": {},
     "output_type": "display_data"
    }
   ],
   "source": [
    "fig2 = plt.figure(figsize=(12,2))\n",
    "\n",
    "ax = sns.heatmap(phi, cmap=\"Greys\", cbar=True, xticklabels=symbols)\n",
    "\n",
    "# format plot\n",
    "ax.set_yticks([])\n",
    "ax.set_title(\"Figure 2 - Stationary distribution based on War and Peace\")\n",
    "ax.set_xlabel(\"symbol\")\n",
    "\n",
    "# save plot\n",
    "fig2.savefig('fig2.png')"
   ]
  },
  {
   "cell_type": "markdown",
   "metadata": {},
   "source": [
    "#### Initilise mapping (sigma)"
   ]
  },
  {
   "cell_type": "markdown",
   "metadata": {},
   "source": [
    "Use as reference the frequency of the words in \"War and Peace\""
   ]
  },
  {
   "cell_type": "code",
   "execution_count": 20,
   "metadata": {},
   "outputs": [],
   "source": [
    "# number of sampling iterations\n",
    "iter = 10_000 \n",
    "\n",
    "sigma = np.copy(symbols)"
   ]
  },
  {
   "cell_type": "code",
   "execution_count": 21,
   "metadata": {},
   "outputs": [],
   "source": [
    "# get unique symbols and their frequencies from the War and Peace text\n",
    "unique_ref, counts_ref = np.unique(text_corpus_final, return_counts=True)\n",
    "\n",
    "# get unique symbols and their frequencies from the encoded message\n",
    "unique_enc, counts_enc = np.unique(message, return_counts=True)"
   ]
  },
  {
   "cell_type": "code",
   "execution_count": 22,
   "metadata": {},
   "outputs": [
    {
     "data": {
      "text/plain": [
       "array([' ', 'e', 't', 'a', 'o', 'n', 'i', 'h', 's', 'r', 'd', 'l', 'u',\n",
       "       'm', 'c', 'w', 'f', 'g', 'y', 'p', ',', 'b', '.', 'v', 'k', '\"',\n",
       "       \"'\", '!', '-', 'x', '?', 'j', 'z', 'q', ';', ':', '(', ')', '1',\n",
       "       '*', '8', '0', '2', '3', '6', '5', '7', '9', '4', '/', '='],\n",
       "      dtype='<U1')"
      ]
     },
     "execution_count": 22,
     "metadata": {},
     "output_type": "execute_result"
    }
   ],
   "source": [
    "# sort symbols in \"War and Peace\" from highest to lowest frequency\n",
    "symbols_reference = unique_ref[np.argsort(counts_ref)[::-1]]\n",
    "symbols_reference"
   ]
  },
  {
   "cell_type": "code",
   "execution_count": 23,
   "metadata": {},
   "outputs": [
    {
     "data": {
      "text/plain": [
       "array(['p', '?', 'w', 's', '[', ':', 'g', ']', '!', ';', '-', 'x', '1',\n",
       "       'n', '2', 'l', 'm', 'r', '/', '.', 'u', 'z', ',', '5', '9', ' ',\n",
       "       '6', '7', 'c', 'v', '0', '4'], dtype='<U1')"
      ]
     },
     "execution_count": 23,
     "metadata": {},
     "output_type": "execute_result"
    }
   ],
   "source": [
    "# sort symbols in encoded message from highest to lowest frequency\n",
    "symbols_encoded = unique_enc[np.argsort(counts_enc)[::-1]]\n",
    "symbols_encoded"
   ]
  },
  {
   "cell_type": "markdown",
   "metadata": {},
   "source": [
    "Adjust sigma to reflect frequency of symbols"
   ]
  },
  {
   "cell_type": "code",
   "execution_count": 24,
   "metadata": {},
   "outputs": [],
   "source": [
    "i=0\n",
    "\n",
    "while i < min(len(unique_ref), len(unique_enc)):\n",
    "    \n",
    "    # get index of target symbol whose encoding will be changed\n",
    "    idx_new = np.argwhere(symbols==symbols_reference[i])[0][0]\n",
    "    \n",
    "    # save current encoding of target symbol\n",
    "    encoding_prev = sigma[idx_new]\n",
    "    \n",
    "    # get new encoding of target symbol\n",
    "    encoding_new = symbols_encoded[i]\n",
    "    \n",
    "    # get current index of the encoding that will be assigned \n",
    "    # to the target symbol\n",
    "    idx_prev = np.argwhere(sigma==encoding_new)[0][0]\n",
    "    \n",
    "    # swap the two symbols\n",
    "    sigma[idx_new] = encoding_new\n",
    "    \n",
    "    sigma[idx_prev] = encoding_prev\n",
    "    \n",
    "    i+=1"
   ]
  },
  {
   "cell_type": "code",
   "execution_count": 25,
   "metadata": {},
   "outputs": [
    {
     "name": "stdout",
     "output_type": "stream",
     "text": [
      "Mapping initialised as follows:\n",
      "σ(=) = =\n",
      "σ( ) = p\n",
      "σ(-) = c\n",
      "σ(,) = u\n",
      "σ(;) = i\n",
      "σ(:) = f\n",
      "σ(!) = 7\n",
      "σ(?) = 0\n",
      "σ(/) = y\n",
      "σ(.) = ,\n",
      "σ(') = 6\n",
      "σ(\") =  \n",
      "σ(() = (\n",
      "σ()) = )\n",
      "σ([) = o\n",
      "σ(]) = h\n",
      "σ(*) = *\n",
      "σ(0) = e\n",
      "σ(1) = \"\n",
      "σ(2) = d\n",
      "σ(3) = 3\n",
      "σ(4) = j\n",
      "σ(5) = t\n",
      "σ(6) = '\n",
      "σ(7) = a\n",
      "σ(8) = 8\n",
      "σ(9) = k\n",
      "σ(a) = s\n",
      "σ(b) = z\n",
      "σ(c) = 2\n",
      "σ(d) = -\n",
      "σ(e) = ?\n",
      "σ(f) = m\n",
      "σ(g) = r\n",
      "σ(h) = ]\n",
      "σ(i) = g\n",
      "σ(j) = 4\n",
      "σ(k) = 9\n",
      "σ(l) = x\n",
      "σ(m) = n\n",
      "σ(n) = :\n",
      "σ(o) = [\n",
      "σ(p) = .\n",
      "σ(q) = q\n",
      "σ(r) = ;\n",
      "σ(s) = !\n",
      "σ(t) = w\n",
      "σ(u) = 1\n",
      "σ(v) = 5\n",
      "σ(w) = l\n",
      "σ(x) = v\n",
      "σ(y) = /\n",
      "σ(z) = b\n"
     ]
    }
   ],
   "source": [
    "print(\"Mapping initialised as follows:\")\n",
    "for i,j in zip(symbols,sigma):\n",
    "    print(f\"σ({i}) = {j}\")"
   ]
  },
  {
   "cell_type": "code",
   "execution_count": 26,
   "metadata": {},
   "outputs": [],
   "source": [
    "def generate_mapping(sigma):\n",
    "    \"\"\"\n",
    "    Generates new mapping by swapping uniformly at random\n",
    "    two different symbols\n",
    "    Input:\n",
    "        sigma: current mapping (numpy array)\n",
    "    Output: \n",
    "        sigma_new: new mapping (numpy array)\n",
    "    \"\"\"\n",
    "    sigma_new = np.copy(sigma)\n",
    "\n",
    "    idx1 = np.random.choice(len(sigma))\n",
    "    idx2 = np.random.choice(len(sigma))\n",
    "    \n",
    "    if idx1==idx2:\n",
    "        sigma_new = generate_mapping(sigma)\n",
    "    else:\n",
    "        temp = sigma_new[idx1]\n",
    "        sigma_new[idx1] = sigma_new[idx2]\n",
    "        sigma_new[idx2] = temp\n",
    "        \n",
    "    return sigma_new"
   ]
  },
  {
   "cell_type": "code",
   "execution_count": 27,
   "metadata": {},
   "outputs": [],
   "source": [
    "def get_logscore(message, sigma, Psi_norm):\n",
    "    \"\"\"\n",
    "    Calculates log-likelihood of encoded message, \n",
    "    which is equal to sum of the log of the transition\n",
    "    probabilities\n",
    "    Input:\n",
    "        message: encoded text (numpy array)\n",
    "        sigma: current mapping (numpy array)\n",
    "        Psi_norm: transition probability matrix for \n",
    "                  symbols in the English vocabulary\n",
    "    \"\"\"\n",
    "    log_l=0\n",
    "    \n",
    "    for i in range(len(message)-1):\n",
    "        \n",
    "        s_i = np.argwhere(sigma == message[i])[0][0]\n",
    "        s_j = np.argwhere(sigma == message[i+1])[0][0]\n",
    "        \n",
    "        # Because the message is large, the marginal prob. of the first\n",
    "        # character contributes very little to the overall log-likelihood. \n",
    "        # Thus, we approximate the log likelihood by dropping that term\n",
    "        \n",
    "        log_l += np.log(Psi_norm[s_i][s_j])\n",
    "        \n",
    "    return log_l"
   ]
  },
  {
   "cell_type": "code",
   "execution_count": 28,
   "metadata": {},
   "outputs": [
    {
     "name": "stdout",
     "output_type": "stream",
     "text": [
      "On iter: 0 on uw whlnges tnm uhse flrnestpre wetsi uw ytades gtfe ue ih\n",
      "On iter: 100 mi uw woliger tik uore .lsiertpse wetrn uw ytader gt.e ue no\n",
      "On iter: 200 mi pw woliger tik pore blsiertuse wetrn pw dtayer gtbe pe no\n",
      "On iter: 300 mi pw woliger tik pore blsiertuse wetrn pw dtayer gtbe pe no\n",
      "On iter: 400 ui pw wotiger lik pore btsierlmse welrn pw dlayer glbe pe no\n",
      "On iter: 500 ul fw woalger ilk fore baslerimse weirn fw dityer gibe fe no\n",
      "On iter: 600 ul fw woalger ilk fore baslerimse weirn fw dityer gibe fe no\n",
      "On iter: 700 ul fw woalger ilk fore baslerimse weirn fw dityer gibe fe no\n",
      "On iter: 800 ul fw woalger ilk fore baslerimse weirn fw dityer gibe fe no\n",
      "On iter: 900 ul fw woalger ilk fore baslerimse weirn fw dityer gibe fe no\n",
      "On iter: 1000 al kw woulger ilf kore musleribse weirn kw dityer gime ke no\n",
      "On iter: 1100 al kw woulger ilf kore musleribse weirn kw dityer gime ke no\n",
      "On iter: 1200 an mw wounger inf more kusneribse weirl mw dityer gike me lo\n",
      "On iter: 1300 an mk kounger ind more wulnerible keirs mk fityer giwe me so\n",
      "On iter: 1400 an mk kounger ind more wulnerible keirs mk fityer giwe me so\n",
      "On iter: 1500 in mk kounger and more wulnerable kears mk fatyer gawe me so\n",
      "On iter: 1600 in mf founger and more wulnerable fears mf kather gawe me so\n",
      "On iter: 1700 in mf founger and more wulnerable fears mf kather gawe me so\n",
      "On iter: 1800 in mf founger and more wulnerable fears mf kather gawe me so\n",
      "On iter: 1900 in mf founger and more wulnerable fears mf kather gawe me so\n",
      "On iter: 2000 in mf founger and more wulnerable fears mf kather gawe me so\n",
      "On iter: 2100 in mf founger and more wulnerable fears mf kather gawe me so\n",
      "On iter: 2200 in mf founger and more wulnerable fears mf kather gawe me so\n",
      "On iter: 2300 in mf founger and more wulnerable fears mf kather gawe me so\n",
      "On iter: 2400 in mf founger and more wulnerable fears mf kather gawe me so\n",
      "On iter: 2500 in wf founger and wore mulnerable fears wf kather game we so\n",
      "On iter: 2600 in wf founger and wore mulnerable fears wf kather game we so\n",
      "On iter: 2700 in wf founger and wore mulnerable fears wf kather game we so\n",
      "On iter: 2800 in wf founger and wore mulnerable fears wf kather game we so\n",
      "On iter: 2900 in wk kounger and wore mulnerable kears wk father game we so\n",
      "On iter: 3000 in wk kounger and wore mulnerable kears wk father game we so\n",
      "On iter: 3100 in wk kounger and wore mulnerable kears wk father game we so\n",
      "On iter: 3200 in wk kounger and wore mulnerable kears wk father game we so\n",
      "On iter: 3300 in wk kounger and wore mulnerable kears wk father game we so\n",
      "On iter: 3400 in wk kounger and wore mulnerable kears wk father game we so\n",
      "On iter: 3500 in wk kounger and wore mulnerable kears wk father game we so\n",
      "On iter: 3600 in wk kounger and wore vulnerable kears wk father gave we so\n",
      "On iter: 3700 in wk kounger and wore vulnerable kears wk father gave we so\n",
      "On iter: 3800 in wk kounger and wore vulnerable kears wk father gave we so\n",
      "On iter: 3900 in wk kounger and wore vulnerable kears wk father gave we so\n",
      "On iter: 4000 in wk kounger and wore vulnerable kears wk father gave we so\n",
      "On iter: 4100 in wk kounger and wore vulnerable kears wk father gave we so\n",
      "On iter: 4200 in wm mounger and wore vulnerable mears wm father gave we so\n",
      "On iter: 4300 in wm mounger and wore vulnerable mears wm father gave we so\n",
      "On iter: 4400 in wm mounger and wore vulnerable mears wm father gave we so\n",
      "On iter: 4500 in km mounger and kore vulnerable mears km father gave ke so\n",
      "On iter: 4600 in km mounger and kore vulnerable mears km father gave ke so\n",
      "On iter: 4700 in km mounger and kore vulnerable mears km father gave ke so\n",
      "On iter: 4800 in kf founger and kore vulnerable fears kf mather gave ke so\n",
      "On iter: 4900 in yf founger and yore vulnerable fears yf mather gave ye so\n",
      "On iter: 5000 in yf founger and yore vulnerable fears yf mather gave ye so\n",
      "On iter: 5100 in yf founger and yore vulnerable fears yf mather gave ye so\n",
      "On iter: 5200 in mf founger and more vulnerable fears mf yather gave me so\n",
      "On iter: 5300 in mf founger and more vulnerable fears mf yather gave me so\n",
      "On iter: 5400 in mf founger and more vulnerable fears mf yather gave me so\n",
      "On iter: 5500 in mf founger and more vulnerable fears mf yather gave me so\n",
      "On iter: 5600 in my younger and more vulnerable years my father gave me so\n",
      "On iter: 5700 in my younger and more vulnerable years my father gave me so\n",
      "On iter: 5800 in my younger and more vulnerable years my father gave me so\n",
      "On iter: 5900 in my younger and more vulnerable years my father gave me so\n",
      "On iter: 6000 in my younger and more vulnerable years my father gave me so\n",
      "On iter: 6100 in my younger and more vulnerable years my father gave me so\n",
      "On iter: 6200 in my younger and more vulnerable years my father gave me so\n",
      "On iter: 6300 in my younger and more vulnerable years my father gave me so\n",
      "On iter: 6400 in my younger and more vulnerable years my father gave me so\n",
      "On iter: 6500 in my younger and more vulnerable years my father gave me so\n",
      "On iter: 6600 in my younger and more vulnerable years my father gave me so\n",
      "On iter: 6700 in my younger and more vulnerable years my father gave me so\n",
      "On iter: 6800 in my younger and more vulnerable years my father gave me so\n",
      "On iter: 6900 in my younger and more vulnerable years my father gave me so\n",
      "On iter: 7000 in my younger and more vulnerable years my father gave me so\n",
      "On iter: 7100 in my younger and more vulnerable years my father gave me so\n",
      "On iter: 7200 in my younger and more vulnerable years my father gave me so\n",
      "On iter: 7300 in my younger and more vulnerable years my father gave me so\n",
      "On iter: 7400 in my younger and more vulnerable years my father gave me so\n",
      "On iter: 7500 in my younger and more vulnerable years my father gave me so\n",
      "On iter: 7600 in my younger and more vulnerable years my father gave me so\n",
      "On iter: 7700 in my younger and more vulnerable years my father gave me so\n",
      "On iter: 7800 in my younger and more vulnerable years my father gave me so\n",
      "On iter: 7900 in my younger and more vulnerable years my father gave me so\n",
      "On iter: 8000 in my younger and more vulnerable years my father gave me so\n",
      "On iter: 8100 in my younger and more vulnerable years my father gave me so\n",
      "On iter: 8200 in my younger and more vulnerable years my father gave me so\n",
      "On iter: 8300 in my younger and more vulnerable years my father gave me so\n",
      "On iter: 8400 in my younger and more vulnerable years my father gave me so\n",
      "On iter: 8500 in my younger and more vulnerable years my father gave me so\n",
      "On iter: 8600 in my younger and more vulnerable years my father gave me so\n",
      "On iter: 8700 in my younger and more vulnerable years my father gave me so\n",
      "On iter: 8800 in my younger and more vulnerable years my father gave me so\n",
      "On iter: 8900 in my younger and more vulnerable years my father gave me so\n",
      "On iter: 9000 in my younger and more vulnerable years my father gave me so\n",
      "On iter: 9100 in my younger and more vulnerable years my father gave me so\n",
      "On iter: 9200 in my younger and more vulnerable years my father gave me so\n",
      "On iter: 9300 in my younger and more vulnerable years my father gave me so\n",
      "On iter: 9400 in my younger and more vulnerable years my father gave me so\n",
      "On iter: 9500 in my younger and more vulnerable years my father gave me so\n",
      "On iter: 9600 in my younger and more vulnerable years my father gave me so\n",
      "On iter: 9700 in my younger and more vulnerable years my father gave me so\n",
      "On iter: 9800 in my younger and more vulnerable years my father gave me so\n",
      "On iter: 9900 in my younger and more vulnerable years my father gave me so\n"
     ]
    }
   ],
   "source": [
    "# list that stores the log-likehood of the encrypted text in each iter\n",
    "likelihoods = []\n",
    "\n",
    "for i in range(iter):\n",
    "    # propose new mapping\n",
    "    sigma_new = generate_mapping(sigma)\n",
    "    \n",
    "    # get log-likelihood of encoded text using current mapping\n",
    "    log_sigma = get_logscore(message, sigma, Psi_norm)\n",
    "    \n",
    "    # store current log-likelihood\n",
    "    likelihoods.append(log_sigma)\n",
    "\n",
    "    # get log-likelihood of encoded text using proposed mapping\n",
    "    log_sigma_new = get_logscore(message, sigma_new, Psi_norm)\n",
    "    \n",
    "    # calculate the acceptance ratio\n",
    "    a = np.exp(log_sigma_new-log_sigma)\n",
    "    \n",
    "    u = np.random.uniform()\n",
    "    \n",
    "    if u <= min(1, a):\n",
    "        sigma = sigma_new\n",
    "    \n",
    "    # output decryption of first 60 symbols every 100 iterations\n",
    "    if i %100==0:\n",
    "        message_decrypted = np.copy(message)\n",
    "        \n",
    "        for k in range(len(message)):\n",
    "            idx_encoded = np.argwhere(sigma==message[k])[0][0]\n",
    "            message_decrypted[k] = symbols[idx_encoded]\n",
    "        \n",
    "        sample_string = ''.join(message_decrypted[:60])\n",
    "        print(f\"On iter: {i} {sample_string}\")"
   ]
  },
  {
   "cell_type": "code",
   "execution_count": 29,
   "metadata": {},
   "outputs": [
    {
     "name": "stdout",
     "output_type": "stream",
     "text": [
      "in my younger and more vulnerable years my father gave me some advice that i've been turning over in my mind ever since. \"whenever you feel like criticizing any one,\" he told me, \"just remember that all the people in this world haven't had the advantages that you've had.\" he didn't say any more but we've always been unusually communicative in a reserved way, and i understood that he meant a great deal more than that. in consequence i'm inclined to reserve all judgments, a habit that has opened up many curious natures to me and also made me the victim of not a few veteran bores. the abnormal mind is quick to detect and attach itself to this quality when it appears in a normal person, and so it came about that in college i was unjustly accused of being a politician, because i was privy to the secret griefs of wild, unknown men. most of the confidences were unsought--frequently i have feigned sleep, preoccupation, or a hostile levity when i realized by some unmistakable sign that an intimate revelation was quivering on the horizon--for the intimate revelations of young men or at least the terms in which they express them are usually plagiaristic and marred by obvious suppressions. reserving judgments is a matter of infinite hope. i am still a little afraid of missing something if i forget that, as my father snobbishly suggested, and i snobbishly repeat a sense of the fundamental decencies is parcelled out unequally at birth.\n"
     ]
    }
   ],
   "source": [
    "# print final decrypted message\n",
    "print(''.join(message_decrypted))"
   ]
  },
  {
   "cell_type": "code",
   "execution_count": 30,
   "metadata": {},
   "outputs": [],
   "source": [
    "with open('decrypted_message.txt', 'w') as f:\n",
    "    f.write(''.join(message_decrypted))"
   ]
  },
  {
   "cell_type": "code",
   "execution_count": 31,
   "metadata": {},
   "outputs": [
    {
     "data": {
      "image/png": "[encoded data removed]",
      "text/plain": [
       "<matplotlib.figure.Figure at 0x1a1e378940>"
      ]
     },
     "metadata": {},
     "output_type": "display_data"
    }
   ],
   "source": [
    "fig3 = plt.figure(figsize=(6,5))\n",
    "\n",
    "plt.plot(likelihoods, c='black')\n",
    "\n",
    "# format plot\n",
    "plt.title('Log-likelihood at each iteration')\n",
    "plt.ylabel('Log-likelihood of decrypted message')\n",
    "plt.xlabel('Number of iterations')"
   ]
  },
  {
   "cell_type": "markdown",
   "metadata": {},
   "source": [
    "Credits:\n",
    "\n",
    "This exercise has been designed by Dr Maneesh Sahani as part of the Approximate Inference module at UCL."
   ]
  }
 ],
 "metadata": {
  "kernelspec": {
   "display_name": "Python 3",
   "language": "python",
   "name": "python3"
  },
  "language_info": {
   "codemirror_mode": {
    "name": "ipython",
    "version": 3
   },
   "file_extension": ".py",
   "mimetype": "text/x-python",
   "name": "python",
   "nbconvert_exporter": "python",
   "pygments_lexer": "ipython3",
   "version": "3.6.4"
  }
 },
 "nbformat": 4,
 "nbformat_minor": 2
}
